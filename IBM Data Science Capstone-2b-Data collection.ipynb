{
 "cells": [
  {
   "cell_type": "markdown",
   "metadata": {},
   "source": [
    "![alt text](https://miro.medium.com/max/755/1*Aydiurid-v3wwHQbTZ5Kaw.jpeg \"The cities that form the triangle, North Carolina\")"
   ]
  },
  {
   "cell_type": "markdown",
   "metadata": {},
   "source": [
    "<a name=\"top\"></a>\n",
    "# GUIDE TO LIVING IN RESEARCH TRIANGLE PARK, NC\n",
    "\n",
    "*This project will attempt to create a **guide on neighborhoods for visitors or recent movers to Research Triangle Park, North Carolina (including Durham, Raleigh, Chapel Hill)**. The project will use K-means clustering, along with other Python data analysis libraries, to show similar neighborhoods within these 3 cities of the region.*\n",
    "\n",
    "## Table of Content\n",
    "\n",
    "### 2.  [Data](#section2)\n",
    "  2b. [Data collection](#section2b)  \n",
    "\n",
    "\n"
   ]
  },
  {
   "cell_type": "code",
   "execution_count": 1,
   "metadata": {},
   "outputs": [
    {
     "name": "stdout",
     "output_type": "stream",
     "text": [
      "All libraries imported successfully!\n"
     ]
    }
   ],
   "source": [
    "### ALL LIBRARIES WILL BE IMPORTED HERE IN ONE PLACE FOR EASE TO MANAGE\n",
    "\n",
    "import pandas as pd\n",
    "import numpy as np\n",
    "\n",
    "import matplotlib.pyplot as plt\n",
    "import matplotlib.cm as cm\n",
    "import matplotlib.colors as colors\n",
    "plt.style.use('ggplot')\n",
    "%matplotlib inline\n",
    "\n",
    "import seaborn as sns\n",
    "import folium\n",
    "\n",
    "from bs4 import BeautifulSoup\n",
    "import requests\n",
    "from geopy.geocoders import Nominatim # module to convert an address into latitude and longitude values\n",
    "import re # import regular expression to help with web scraping\n",
    "\n",
    "from sklearn.cluster import KMeans\n",
    "\n",
    "print('All libraries imported successfully!')"
   ]
  },
  {
   "cell_type": "markdown",
   "metadata": {},
   "source": [
    "<a name='section2b'></a>\n",
    "#### 2b. Data collection\n",
    "##### Retrieving neighborhoods\n",
    " In order to locate the neighborhoods on the map, we need to first identify the list of those places. The website **[City-Data.com](http://www.city-data.com/)** compiles neighborhood's geographic data for cities across the United States. In each city, they have a list of neighborhoods that can be scrape \n",
    " with Beautiful Soup. Therefore, I will scrape the lists of neighborhoods from each city site and combine them into a single dataframe."
   ]
  },
  {
   "cell_type": "code",
   "execution_count": 4,
   "metadata": {},
   "outputs": [
    {
     "data": {
      "text/html": [
       "<div>\n",
       "<style scoped>\n",
       "    .dataframe tbody tr th:only-of-type {\n",
       "        vertical-align: middle;\n",
       "    }\n",
       "\n",
       "    .dataframe tbody tr th {\n",
       "        vertical-align: top;\n",
       "    }\n",
       "\n",
       "    .dataframe thead th {\n",
       "        text-align: right;\n",
       "    }\n",
       "</style>\n",
       "<table border=\"1\" class=\"dataframe\">\n",
       "  <thead>\n",
       "    <tr style=\"text-align: right;\">\n",
       "      <th></th>\n",
       "      <th>City</th>\n",
       "      <th>Neighborhood</th>\n",
       "    </tr>\n",
       "  </thead>\n",
       "  <tbody>\n",
       "    <tr>\n",
       "      <th>0</th>\n",
       "      <td>Durham</td>\n",
       "      <td>Albright Community</td>\n",
       "    </tr>\n",
       "    <tr>\n",
       "      <th>1</th>\n",
       "      <td>Durham</td>\n",
       "      <td>American Tobacco District</td>\n",
       "    </tr>\n",
       "    <tr>\n",
       "      <th>2</th>\n",
       "      <td>Durham</td>\n",
       "      <td>Auburn</td>\n",
       "    </tr>\n",
       "    <tr>\n",
       "      <th>3</th>\n",
       "      <td>Durham</td>\n",
       "      <td>Breedlove</td>\n",
       "    </tr>\n",
       "    <tr>\n",
       "      <th>4</th>\n",
       "      <td>Durham</td>\n",
       "      <td>Brightleaf District</td>\n",
       "    </tr>\n",
       "  </tbody>\n",
       "</table>\n",
       "</div>"
      ],
      "text/plain": [
       "     City               Neighborhood\n",
       "0  Durham         Albright Community\n",
       "1  Durham  American Tobacco District\n",
       "2  Durham                     Auburn\n",
       "3  Durham                  Breedlove\n",
       "4  Durham        Brightleaf District"
      ]
     },
     "execution_count": 4,
     "metadata": {},
     "output_type": "execute_result"
    }
   ],
   "source": [
    "# Scrape the web for neighborhood names for each city.\n",
    "\n",
    "# First, put the city names and URL containing the data into a dictionary to iterate:\n",
    "city_dict = {'Durham':'http://www.city-data.com/nbmaps/neigh-Durham-North-Carolina.html',\n",
    "             'Raleigh':'http://www.city-data.com/nbmaps/neigh-Raleigh-North-Carolina.html',\n",
    "             'Cary':'http://www.city-data.com/nbmaps/neigh-Cary-North-Carolina.html',\n",
    "             'Chapel Hill':'http://www.city-data.com/nbmaps/neigh-Chapel-Hill-North-Carolina.html',\n",
    "             'Apex':'http://www.city-data.com/nbmaps/neigh-Apex-North-Carolina.html'}\n",
    "\n",
    "\n",
    "# After that, define the function used to extract neighborhood names from the website for each city\n",
    "def neighborhood_scrape(city, url):\n",
    "    html = requests.get(url)\n",
    "    soup = BeautifulSoup(html.text, 'html.parser')\n",
    "    a_tag = soup.find_all('a', href=re.compile('#N'))\n",
    "    nbh_list = [item.string for item in a_tag]\n",
    "    df = pd.DataFrame({'City':[str(city) for i in range(len(nbh_list))], 'Neighborhood':nbh_list})\n",
    "    return df\n",
    "\n",
    "\n",
    "# Finally, loop over the dictionary and add the results to a combined dataframe\n",
    "df = pd.DataFrame()\n",
    "for k, v in city_dict.items():\n",
    "    df_temp = neighborhood_scrape(k, v)\n",
    "    df = df.append(df_temp)\n",
    "\n",
    "print('{} neighborhoods retrieved for the top 5 most populous cities in the Triangle area.'.format(df.shape[0]))\n",
    "\n",
    "df.head()\n"
   ]
  },
  {
   "cell_type": "code",
   "execution_count": 5,
   "metadata": {},
   "outputs": [
    {
     "data": {
      "text/plain": [
       "City\n",
       "Raleigh        200\n",
       "Cary           200\n",
       "Apex           200\n",
       "Durham          67\n",
       "Chapel Hill     58\n",
       "Name: Neighborhood, dtype: int64"
      ]
     },
     "execution_count": 5,
     "metadata": {},
     "output_type": "execute_result"
    }
   ],
   "source": [
    "# Let's see how many neighborhoods we retrieved for each city\n",
    "df['Neighborhood'].groupby(df['City']).count().sort_values(ascending=False)"
   ]
  },
  {
   "cell_type": "markdown",
   "metadata": {},
   "source": [
    "##### Getting neighborhood coordinates from geocoding services\n",
    "Google, Bing (Microsoft), and serveral other companies that provide mapping service also have offers for geocoding. However, they often require registering for an account and even charge for the service. Therefore, for this project, I will use the ***Nominatim*** module within **Geopy** library to obtain the coordinates of the neighborhood. This module is built on OpenStreetMap, which is an opensource location service and is free to use."
   ]
  },
  {
   "cell_type": "code",
   "execution_count": 6,
   "metadata": {},
   "outputs": [
    {
     "name": "stdout",
     "output_type": "stream",
     "text": [
      "35.89212155 -78.87154641285423\n"
     ]
    }
   ],
   "source": [
    "# Define a function to retrieve latitude and longitudes of the neighborhoods\n",
    "def get_coordinates(neighborhood, city):\n",
    "    address = str(neighborhood) + ', ' + str(city) + ', NC'\n",
    "\n",
    "    location = Nominatim(user_agent=\"hkhuu@elon.edu\").geocode(address)\n",
    "    if location == None:\n",
    "        return [np.nan, np.nan]\n",
    "    else:\n",
    "        return [location.latitude, location.longitude]\n",
    "\n",
    "    \n",
    "# Try out the function to obtain the coordinates of Research Triangle Park area in Durham\n",
    "rtp_coordinates = get_coordinates('Research Triangle Park', 'Durham')\n",
    "LATITUDE, LONGITUDE = rtp_coordinates[0], rtp_coordinates[1]\n",
    "print(LATITUDE, LONGITUDE)"
   ]
  },
  {
   "cell_type": "markdown",
   "metadata": {},
   "source": [
    "The function is working! I will now proceed to apply the function to each neighborhood in our dataframe and add the location data."
   ]
  },
  {
   "cell_type": "code",
   "execution_count": 7,
   "metadata": {},
   "outputs": [
    {
     "data": {
      "text/html": [
       "<div>\n",
       "<style scoped>\n",
       "    .dataframe tbody tr th:only-of-type {\n",
       "        vertical-align: middle;\n",
       "    }\n",
       "\n",
       "    .dataframe tbody tr th {\n",
       "        vertical-align: top;\n",
       "    }\n",
       "\n",
       "    .dataframe thead th {\n",
       "        text-align: right;\n",
       "    }\n",
       "</style>\n",
       "<table border=\"1\" class=\"dataframe\">\n",
       "  <thead>\n",
       "    <tr style=\"text-align: right;\">\n",
       "      <th></th>\n",
       "      <th>City</th>\n",
       "      <th>Neighborhood</th>\n",
       "      <th>Latitude/Longitude</th>\n",
       "    </tr>\n",
       "  </thead>\n",
       "  <tbody>\n",
       "    <tr>\n",
       "      <th>0</th>\n",
       "      <td>Durham</td>\n",
       "      <td>Albright Community</td>\n",
       "      <td>[nan, nan]</td>\n",
       "    </tr>\n",
       "    <tr>\n",
       "      <th>1</th>\n",
       "      <td>Durham</td>\n",
       "      <td>American Tobacco District</td>\n",
       "      <td>[35.99479205, -78.90463781810374]</td>\n",
       "    </tr>\n",
       "    <tr>\n",
       "      <th>2</th>\n",
       "      <td>Durham</td>\n",
       "      <td>Auburn</td>\n",
       "      <td>[35.9152775, -78.91324753679288]</td>\n",
       "    </tr>\n",
       "    <tr>\n",
       "      <th>3</th>\n",
       "      <td>Durham</td>\n",
       "      <td>Breedlove</td>\n",
       "      <td>[35.98605795, -78.8316742822716]</td>\n",
       "    </tr>\n",
       "    <tr>\n",
       "      <th>4</th>\n",
       "      <td>Durham</td>\n",
       "      <td>Brightleaf District</td>\n",
       "      <td>[nan, nan]</td>\n",
       "    </tr>\n",
       "  </tbody>\n",
       "</table>\n",
       "</div>"
      ],
      "text/plain": [
       "     City               Neighborhood                 Latitude/Longitude\n",
       "0  Durham         Albright Community                         [nan, nan]\n",
       "1  Durham  American Tobacco District  [35.99479205, -78.90463781810374]\n",
       "2  Durham                     Auburn   [35.9152775, -78.91324753679288]\n",
       "3  Durham                  Breedlove   [35.98605795, -78.8316742822716]\n",
       "4  Durham        Brightleaf District                         [nan, nan]"
      ]
     },
     "execution_count": 7,
     "metadata": {},
     "output_type": "execute_result"
    }
   ],
   "source": [
    "df['Latitude/Longitude'] = df.apply(lambda x: get_coordinates(x['Neighborhood'], x['City']), axis=1)\n",
    "df.head()"
   ]
  },
  {
   "cell_type": "markdown",
   "metadata": {},
   "source": [
    "Let's clean up the dataframe. I will separate the latitudes and longitude to their own column, then drop all missing data. After that, we will recheck to see how many neighborhoods we end up with."
   ]
  },
  {
   "cell_type": "code",
   "execution_count": 11,
   "metadata": {},
   "outputs": [
    {
     "name": "stdout",
     "output_type": "stream",
     "text": [
      "The resulting data set has 412 neighborhoods.\n"
     ]
    }
   ],
   "source": [
    "# Replacing 'Latitude/Longitude' column with separated latitudes and longitudes\n",
    "df_nbh = df\n",
    "df_nbh[['Latitude','Longitude']] = pd.DataFrame(df_nbh['Latitude/Longitude'].tolist(), index= df.index)\n",
    "df_nbh = df.drop('Latitude/Longitude', axis=1)\n",
    "df_nbh.head()\n",
    "\n",
    "\n",
    "# Drop missing values\n",
    "df_nbh = df_nbh.dropna(subset=['Latitude', 'Longitude'], axis=0)\n",
    "\n",
    "print('The resulting data set has {} neighborhoods.'.format(df_nbh.shape[0]))"
   ]
  },
  {
   "cell_type": "markdown",
   "metadata": {},
   "source": [
    "##### Get venues data using Foursquare API\n",
    "\n",
    "The final piece of data we need is the venues around each of these neighborhood. This will be done with the help of Foursquare API. The template for the explore API is as follow:\n",
    "\n",
    "```python\n",
    "https://api.foursquare.com/v2/venues/explore?client_id={}&client_secret={}&ll={},{}&v={}&radius={}&limit={}\n",
    "```\n",
    "Due to the number of neighborhood we are pulling data for, I will limit the number of venues to 50 places, within the radius of 500 meter of a neighborhood.\n",
    "\n",
    "***First***, let's define a function we can use to automate the API call."
   ]
  },
  {
   "cell_type": "code",
   "execution_count": 17,
   "metadata": {},
   "outputs": [],
   "source": [
    "CLIENT_ID = 'SRBMCEOKYUNGCPXTOWBDDOZKU1WHQRZELUZAVZVLVKLU2WAQ'\n",
    "CLIENT_SECRET = 'MS5DQS5SS4SD1P25HMTE5Z05L5DFZ0GT1RYHINHWW22YBPZT'\n",
    "VERSION = '20180605'\n",
    "\n",
    "\n",
    "def getNearbyVenues(names, latitudes, longitudes, radius=500, limit=50):\n",
    "    \n",
    "    venues_list=[]\n",
    "    for name, lat, lng in zip(names, latitudes, longitudes):\n",
    "        print(name)\n",
    "            \n",
    "        # create the API request URL\n",
    "        url = 'https://api.foursquare.com/v2/venues/explore?&client_id={}&client_secret={}&v={}&ll={},{}&radius={}&limit={}'.format(\n",
    "            CLIENT_ID, \n",
    "            CLIENT_SECRET, \n",
    "            VERSION, \n",
    "            lat, \n",
    "            lng, \n",
    "            radius, \n",
    "            limit)\n",
    "            \n",
    "        # make the GET request\n",
    "        results = requests.get(url).json()[\"response\"]['groups'][0]['items']\n",
    "        \n",
    "        # return only relevant information for each nearby venue\n",
    "        venues_list.append([(\n",
    "            name, \n",
    "            lat, \n",
    "            lng, \n",
    "            v['venue']['name'], \n",
    "            v['venue']['location']['lat'], \n",
    "            v['venue']['location']['lng'],  \n",
    "            v['venue']['categories'][0]['name']) for v in results])\n",
    "\n",
    "    nearby_venues = pd.DataFrame([item for venue_list in venues_list for item in venue_list])\n",
    "    nearby_venues.columns = ['Neighborhood', \n",
    "                             'Neighborhood Latitude', \n",
    "                             'Neighborhood Longitude', \n",
    "                             'Venue', \n",
    "                             'Venue Latitude', \n",
    "                             'Venue Longitude', \n",
    "                             'Venue Category']\n",
    "    \n",
    "    return(nearby_venues)"
   ]
  },
  {
   "cell_type": "markdown",
   "metadata": {},
   "source": [
    "***Now***, let's make the API call to get the recommended venues."
   ]
  },
  {
   "cell_type": "code",
   "execution_count": null,
   "metadata": {},
   "outputs": [],
   "source": [
    "triangle_venues = getNearbyVenues(names=df_nbh['Neighborhood'],\n",
    "                                  latitudes=df_nbh['Latitude'],\n",
    "                                  longitudes=df_nbh['Longitude']\n",
    "                                 )"
   ]
  },
  {
   "cell_type": "code",
   "execution_count": 19,
   "metadata": {},
   "outputs": [
    {
     "name": "stdout",
     "output_type": "stream",
     "text": [
      "(2515, 7)\n"
     ]
    },
    {
     "data": {
      "text/html": [
       "<div>\n",
       "<style scoped>\n",
       "    .dataframe tbody tr th:only-of-type {\n",
       "        vertical-align: middle;\n",
       "    }\n",
       "\n",
       "    .dataframe tbody tr th {\n",
       "        vertical-align: top;\n",
       "    }\n",
       "\n",
       "    .dataframe thead th {\n",
       "        text-align: right;\n",
       "    }\n",
       "</style>\n",
       "<table border=\"1\" class=\"dataframe\">\n",
       "  <thead>\n",
       "    <tr style=\"text-align: right;\">\n",
       "      <th></th>\n",
       "      <th>Neighborhood</th>\n",
       "      <th>Neighborhood Latitude</th>\n",
       "      <th>Neighborhood Longitude</th>\n",
       "      <th>Venue</th>\n",
       "      <th>Venue Latitude</th>\n",
       "      <th>Venue Longitude</th>\n",
       "      <th>Venue Category</th>\n",
       "    </tr>\n",
       "  </thead>\n",
       "  <tbody>\n",
       "    <tr>\n",
       "      <th>0</th>\n",
       "      <td>American Tobacco District</td>\n",
       "      <td>35.994792</td>\n",
       "      <td>-78.904638</td>\n",
       "      <td>American Tobacco Campus</td>\n",
       "      <td>35.993042</td>\n",
       "      <td>-78.905091</td>\n",
       "      <td>Neighborhood</td>\n",
       "    </tr>\n",
       "    <tr>\n",
       "      <th>1</th>\n",
       "      <td>American Tobacco District</td>\n",
       "      <td>35.994792</td>\n",
       "      <td>-78.904638</td>\n",
       "      <td>Durham Performing Arts Center (DPAC)</td>\n",
       "      <td>35.993701</td>\n",
       "      <td>-78.902190</td>\n",
       "      <td>Concert Hall</td>\n",
       "    </tr>\n",
       "    <tr>\n",
       "      <th>2</th>\n",
       "      <td>American Tobacco District</td>\n",
       "      <td>35.994792</td>\n",
       "      <td>-78.904638</td>\n",
       "      <td>Lucky's Delicatessen</td>\n",
       "      <td>35.997015</td>\n",
       "      <td>-78.904597</td>\n",
       "      <td>Deli / Bodega</td>\n",
       "    </tr>\n",
       "    <tr>\n",
       "      <th>3</th>\n",
       "      <td>American Tobacco District</td>\n",
       "      <td>35.994792</td>\n",
       "      <td>-78.904638</td>\n",
       "      <td>Pizzeria Toro</td>\n",
       "      <td>35.996998</td>\n",
       "      <td>-78.903716</td>\n",
       "      <td>Pizza Place</td>\n",
       "    </tr>\n",
       "    <tr>\n",
       "      <th>4</th>\n",
       "      <td>American Tobacco District</td>\n",
       "      <td>35.994792</td>\n",
       "      <td>-78.904638</td>\n",
       "      <td>Viceroy</td>\n",
       "      <td>35.996744</td>\n",
       "      <td>-78.903650</td>\n",
       "      <td>Gastropub</td>\n",
       "    </tr>\n",
       "  </tbody>\n",
       "</table>\n",
       "</div>"
      ],
      "text/plain": [
       "                Neighborhood  Neighborhood Latitude  Neighborhood Longitude  \\\n",
       "0  American Tobacco District              35.994792              -78.904638   \n",
       "1  American Tobacco District              35.994792              -78.904638   \n",
       "2  American Tobacco District              35.994792              -78.904638   \n",
       "3  American Tobacco District              35.994792              -78.904638   \n",
       "4  American Tobacco District              35.994792              -78.904638   \n",
       "\n",
       "                                  Venue  Venue Latitude  Venue Longitude  \\\n",
       "0               American Tobacco Campus       35.993042       -78.905091   \n",
       "1  Durham Performing Arts Center (DPAC)       35.993701       -78.902190   \n",
       "2                  Lucky's Delicatessen       35.997015       -78.904597   \n",
       "3                         Pizzeria Toro       35.996998       -78.903716   \n",
       "4                               Viceroy       35.996744       -78.903650   \n",
       "\n",
       "  Venue Category  \n",
       "0   Neighborhood  \n",
       "1   Concert Hall  \n",
       "2  Deli / Bodega  \n",
       "3    Pizza Place  \n",
       "4      Gastropub  "
      ]
     },
     "execution_count": 19,
     "metadata": {},
     "output_type": "execute_result"
    }
   ],
   "source": [
    "print(triangle_venues.shape)\n",
    "triangle_venues.head()"
   ]
  },
  {
   "cell_type": "markdown",
   "metadata": {},
   "source": [
    "**As this data collection part deal with complex functions and loops that takes significant amount of time to compile, I will save all relevant datasets into .csv format to be called quickly for analysis.**"
   ]
  },
  {
   "cell_type": "code",
   "execution_count": 21,
   "metadata": {},
   "outputs": [],
   "source": [
    "df.to_csv('main_df.csv', index=False)\n",
    "df_nbh.to_csv('neighborhood_df.csv', index=False)\n",
    "triangle_venues.to_csv('triangle_venues.csv', index=False)"
   ]
  },
  {
   "cell_type": "code",
   "execution_count": null,
   "metadata": {},
   "outputs": [],
   "source": []
  }
 ],
 "metadata": {
  "kernelspec": {
   "display_name": "Python 3",
   "language": "python",
   "name": "python3"
  },
  "language_info": {
   "codemirror_mode": {
    "name": "ipython",
    "version": 3
   },
   "file_extension": ".py",
   "mimetype": "text/x-python",
   "name": "python",
   "nbconvert_exporter": "python",
   "pygments_lexer": "ipython3",
   "version": "3.7.6"
  }
 },
 "nbformat": 4,
 "nbformat_minor": 4
}
